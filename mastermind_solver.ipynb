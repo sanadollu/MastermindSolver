{
 "cells": [
  {
   "cell_type": "markdown",
   "metadata": {},
   "source": [
    "Name: Sena Ezgi Anadollu\n",
    "\n",
    "ID: 201401017\n",
    "\n",
    "Course: YAP441/BIL541"
   ]
  },
  {
   "cell_type": "markdown",
   "metadata": {},
   "source": [
    "# Mastermind Çözücü"
   ]
  },
  {
   "cell_type": "markdown",
   "metadata": {},
   "source": [
    "Beklenen Çıktılar:\n",
    "Her adımda codebreaker algoritmanın nasıl bir tahminde bulunduğunun açıkça görülmesi gerekiyor. \n",
    "•\tEn iyi tahmin yöntemi ve ortalama tahmin sayısı karşılaştırmaları.\n",
    "•\tHer yöntemin başarı yüzdesi,puanı ve verimlilik analizi.\n",
    "\n",
    "Sistemin Çalışma Şekli:\n",
    "•\tKullanıcılar  gizli renk kombinasyonunu terminal veya komut satırı arayüzü üzerinden girebilecek ve çözüme ulaşabilecektir.\n",
    "•\tKullanıcı giriş yapmadığında, sistem otomatik olarak rastgele bir kombinasyon oluşturacak ve çözecektir.\n",
    "Hamle sayısına göre de puan hesaplanır\n"
   ]
  },
  {
   "cell_type": "code",
   "execution_count": 63,
   "metadata": {},
   "outputs": [],
   "source": [
    "import random\n",
    "import random\n",
    "import math\n",
    "import time\n",
    "import itertools"
   ]
  },
  {
   "cell_type": "markdown",
   "metadata": {},
   "source": [
    "Parametreler\n"
   ]
  },
  {
   "cell_type": "code",
   "execution_count": 64,
   "metadata": {},
   "outputs": [],
   "source": [
    "colors = ['R', 'G', 'B', 'Y', 'O', 'P']\n",
    "code_length = 4\n",
    "population_size = 100\n",
    "max_feedback_calls = 10  # get_feedback fonksiyonu en fazla 10 defa çağrılabilir.\n",
    "tournament_size = 5\n",
    "mutation_rate = 0.1"
   ]
  },
  {
   "cell_type": "markdown",
   "metadata": {},
   "source": [
    "Yardımcı Fonksiyonlar"
   ]
  },
  {
   "cell_type": "code",
   "execution_count": 65,
   "metadata": {},
   "outputs": [],
   "source": [
    "def generate_individual():\n",
    "    \"\"\"Rastgele bir tahmin (genetik algoritma için birey) oluşturur.\"\"\"\n",
    "    return [random.choice(colors) for _ in range(code_length)]"
   ]
  },
  {
   "cell_type": "code",
   "execution_count": 66,
   "metadata": {},
   "outputs": [],
   "source": [
    "def simulated_feedback(secret, guess):\n",
    "    \"\"\"\n",
    "    Gizli kod ile guess arasındaki simüle edilmiş geri bildirimi (siyah, beyaz)\n",
    "    hesaplar.\n",
    "    Bu fonksiyon, geçmiş tahminlerin geri bildirimlerine benzer tahminler yapabilmek için kullanılır.\n",
    "    \"\"\"\n",
    "    black = sum(s == g for s, g in zip(secret, guess))\n",
    "    secret_counts = {color: secret.count(color) for color in colors}\n",
    "    guess_counts  = {color: guess.count(color) for color in colors}\n",
    "    common = sum(min(secret_counts[color], guess_counts.get(color, 0)) for color in colors)\n",
    "    white = common - black\n",
    "    return (black, white)"
   ]
  },
  {
   "cell_type": "code",
   "execution_count": 67,
   "metadata": {},
   "outputs": [],
   "source": [
    "def is_consistent(candidate, history):\n",
    "    \"\"\"\n",
    "    'history' içindeki her (tahmin, geri bildirim) çifti için,\n",
    "    'candidate' tahmini ile simüle edilen geri bildirimin aynı olup olmadığını kontrol eder.\n",
    "    \"\"\"\n",
    "    for past_guess, past_fb in history:\n",
    "        if simulated_feedback(candidate, past_guess) != past_fb:\n",
    "            return False\n",
    "    return True\n"
   ]
  },
  {
   "cell_type": "code",
   "execution_count": 68,
   "metadata": {},
   "outputs": [],
   "source": [
    "\n",
    "def candidate_fitness(candidate, history):\n",
    "    \"\"\"\n",
    "    Aday tahminin geçmiş geri bildirimlere uyumunu ölçer.\n",
    "    Her uyumlu geri bildirim için 1 puan eklenir.\n",
    "    \"\"\"\n",
    "    score = 0\n",
    "    for past_guess, past_fb in history:\n",
    "        if simulated_feedback(candidate, past_guess) == past_fb:\n",
    "            score += 1\n",
    "    return score\n"
   ]
  },
  {
   "cell_type": "code",
   "execution_count": 69,
   "metadata": {},
   "outputs": [],
   "source": [
    "\n",
    "def tournament_selection(population, history):\n",
    "    \"\"\"\n",
    "    Popülasyondan turnuva seçimi yaparak, en yüksek fitness'e sahip bireyi seçer.\n",
    "    \"\"\"\n",
    "    sample_size = min(tournament_size, len(population))\n",
    "    tournament = random.sample(population, sample_size)\n",
    "    tournament.sort(key=lambda cand: candidate_fitness(cand, history), reverse=True)\n",
    "    return tournament[0]\n",
    "\n"
   ]
  },
  {
   "cell_type": "code",
   "execution_count": 70,
   "metadata": {},
   "outputs": [],
   "source": [
    "def crossover(parent1, parent2):\n",
    "    \"\"\"\n",
    "    Tek noktalı çaprazlama uygular. Parent1'in başı + Parent2'nin sonu\n",
    "    \"\"\"\n",
    "    if code_length < 2:\n",
    "        return parent1[:]\n",
    "    crossover_point = random.randint(1, code_length - 1)\n",
    "    return parent1[:crossover_point] + parent2[crossover_point:]\n",
    "\n"
   ]
  },
  {
   "cell_type": "code",
   "execution_count": 71,
   "metadata": {},
   "outputs": [],
   "source": [
    "def mutate(individual):\n",
    "    \"\"\"\n",
    "    Genetik çeşitliliği artırmak için belirlenen mutasyon oranına göre, bireyin her bir geninde rastgele değişiklik yapar.\n",
    "    \"\"\"\n",
    "    new_ind = individual[:]\n",
    "    for i in range(code_length):\n",
    "        if random.random() < mutation_rate:\n",
    "            current = new_ind[i]\n",
    "            new_color = random.choice(colors)\n",
    "            while new_color == current:\n",
    "                new_color = random.choice(colors)\n",
    "            new_ind[i] = new_color\n",
    "    return new_ind"
   ]
  },
  {
   "cell_type": "markdown",
   "metadata": {},
   "source": [
    "## Mastermind Oyun Sınıfı "
   ]
  },
  {
   "cell_type": "code",
   "execution_count": 72,
   "metadata": {},
   "outputs": [],
   "source": [
    "class MastermindGame:\n",
    "    \"\"\"\n",
    "    Gizli kodu saklar ve tahminlere geri bildirim üretir.\n",
    "    \"\"\"\n",
    "    def __init__(self, secret=None):\n",
    "        self.code_length = code_length\n",
    "        self.colors = colors\n",
    "        self.secret = secret if secret is not None else generate_individual()\n",
    "        self.feedback_calls = 0\n",
    "        self.max_feedback_calls = max_feedback_calls\n",
    "\n",
    "    def get_feedback(self, guess):\n",
    "        \"\"\"\n",
    "        Gerçek geri bildirimi üretir. 10 tahmin hakkı aşıldığında hata fırlatır.\n",
    "        \"\"\"\n",
    "        if self.feedback_calls >= self.max_feedback_calls:\n",
    "            raise Exception(\"Maximum feedback calls reached (10 tahmin hakkı tükendi).\")\n",
    "        self.feedback_calls += 1\n",
    "        black = sum(s == g for s, g in zip(self.secret, guess))\n",
    "        secret_counts = {color: self.secret.count(color) for color in colors}\n",
    "        guess_counts  = {color: guess.count(color) for color in colors}\n",
    "        common = sum(min(secret_counts[color], guess_counts.get(color, 0)) for color in colors)\n",
    "        white = common - black\n",
    "        return (black, white)\n"
   ]
  },
  {
   "cell_type": "markdown",
   "metadata": {},
   "source": [
    "## Algoritmalar"
   ]
  },
  {
   "cell_type": "markdown",
   "metadata": {},
   "source": [
    "### 1. Genetik Algoritma"
   ]
  },
  {
   "cell_type": "code",
   "execution_count": 73,
   "metadata": {},
   "outputs": [],
   "source": [
    "def genetic_algorithm(game):\n",
    "    history = []  # (tahmin, geri bildirim) çiftleri\n",
    "    population = [generate_individual() for _ in range(population_size)]\n",
    "    generation = 1\n",
    "    best_guess = None\n",
    "\n",
    "    while generation <= max_feedback_calls:\n",
    "        if not population:\n",
    "            population = [generate_individual() for _ in range(population_size)]\n",
    "            population = [cand for cand in population if is_consistent(cand, history)]\n",
    "        \n",
    "        best_candidate = max(population, key=lambda cand: candidate_fitness(cand, history))\n",
    "        try:\n",
    "            feedback = game.get_feedback(best_candidate)\n",
    "        except Exception as e:\n",
    "            print(e)\n",
    "            break\n",
    "        history.append((best_candidate, feedback))\n",
    "        best_guess = best_candidate\n",
    "        \n",
    "        if feedback[0] == code_length:\n",
    "            break\n",
    "\n",
    "        population = [cand for cand in population if is_consistent(cand, history)]\n",
    "        if not population:\n",
    "            population = []\n",
    "            while len(population) < population_size:\n",
    "                cand = generate_individual()\n",
    "                if is_consistent(cand, history):\n",
    "                    population.append(cand)\n",
    "        \n",
    "        new_population = []\n",
    "        while len(new_population) < population_size:\n",
    "            parent1 = tournament_selection(population, history)\n",
    "            parent2 = tournament_selection(population, history)\n",
    "            child = crossover(parent1, parent2)\n",
    "            child = mutate(child)\n",
    "            if is_consistent(child, history):\n",
    "                new_population.append(child)\n",
    "        population = new_population\n",
    "        generation += 1\n",
    "\n",
    "    return history, generation, best_guess"
   ]
  },
  {
   "cell_type": "code",
   "execution_count": 74,
   "metadata": {},
   "outputs": [],
   "source": [
    "def solve_with_genetic_algorithm(secret=None):\n",
    "    game = MastermindGame(secret=secret)\n",
    "    history, generations, best_guess = genetic_algorithm(game)\n",
    "    return history, generations, best_guess, game.secret"
   ]
  },
  {
   "cell_type": "markdown",
   "metadata": {},
   "source": [
    "### 2. Constraint Propagation (Kısıt Yayılımı)"
   ]
  },
  {
   "cell_type": "code",
   "execution_count": 75,
   "metadata": {},
   "outputs": [],
   "source": [
    "def solve_with_constraint_propagation(secret=None):\n",
    "    game = MastermindGame(secret=secret)\n",
    "    possible_codes = [list(code) for code in itertools.product(colors, repeat=code_length)]\n",
    "    history = []\n",
    "    \n",
    "    # İlk tahmin: rastgele veya sabit seçim\n",
    "    guess = random.choice(possible_codes)\n",
    "    \n",
    "    while len(history) <= max_feedback_calls:\n",
    "        feedback = game.get_feedback(guess)\n",
    "        history.append((guess, feedback))\n",
    "        if feedback[0] == code_length:\n",
    "            return history, len(history), guess, game.secret\n",
    "        \n",
    "        # Geri bildirimle uyumlu kodları filtrele\n",
    "        possible_codes = [code for code in possible_codes if simulated_feedback(code, guess) == feedback]\n",
    "        if possible_codes:\n",
    "            guess = possible_codes[0]\n",
    "        else:\n",
    "            break\n",
    "    return history, len(history), guess, game.secret"
   ]
  },
  {
   "cell_type": "markdown",
   "metadata": {},
   "source": [
    "### 3. Minimax Algoritması"
   ]
  },
  {
   "cell_type": "code",
   "execution_count": 76,
   "metadata": {},
   "outputs": [],
   "source": [
    "def minimax_guess(possible_codes):\n",
    "\n",
    "    if len(possible_codes) == 1:\n",
    "        return possible_codes[0]\n",
    "    best_guess = None\n",
    "    best_score = float('inf')\n",
    "    possible_feedbacks = [(b, w) for b in range(code_length+1) for w in range(code_length+1-b)]\n",
    "    \n",
    "    for guess in possible_codes:\n",
    "        worst_case = 0\n",
    "        for fb in possible_feedbacks:\n",
    "            count = sum(1 for code in possible_codes if simulated_feedback(guess, code) == fb)\n",
    "            worst_case = max(worst_case, count)\n",
    "        if worst_case < best_score:\n",
    "            best_score = worst_case\n",
    "            best_guess = guess\n",
    "    return best_guess\n"
   ]
  },
  {
   "cell_type": "code",
   "execution_count": 77,
   "metadata": {},
   "outputs": [],
   "source": [
    "def solve_with_minimax(secret=None):\n",
    "    game = MastermindGame(secret=secret)\n",
    "    possible_codes = [list(code) for code in itertools.product(colors, repeat=code_length)]\n",
    "    history = []\n",
    "    initial_guess = ['R','R','G','G'] if ['R','R','G','G'] in possible_codes else possible_codes[0]\n",
    "    guess = initial_guess\n",
    "    \n",
    "    while len(history) <= max_feedback_calls:\n",
    "        feedback = game.get_feedback(guess)\n",
    "        history.append((guess, feedback))\n",
    "        if feedback[0] == code_length:\n",
    "            return history, len(history), guess, game.secret\n",
    "        \n",
    "        possible_codes = [code for code in possible_codes if simulated_feedback(guess, code) == feedback]\n",
    "        if not possible_codes:\n",
    "            break\n",
    "        guess = minimax_guess(possible_codes)\n",
    "    return history, len(history), guess, game.secret"
   ]
  },
  {
   "cell_type": "markdown",
   "metadata": {},
   "source": [
    "### 4. Simulated Annealing"
   ]
  },
  {
   "cell_type": "code",
   "execution_count": 78,
   "metadata": {},
   "outputs": [],
   "source": [
    "def cost(candidate, history):\n",
    "    \"\"\"\n",
    "    History'deki her tahmin için, simüle edilen geri bildirim ile alınan geri bildirim arasındaki\n",
    "    farkın toplamını maliyet olarak hesaplar.\n",
    "    \"\"\"\n",
    "    total = 0\n",
    "    for past_guess, past_fb in history:\n",
    "        sim_fb = simulated_feedback(candidate, past_guess)\n",
    "        total += abs(sim_fb[0] - past_fb[0]) + abs(sim_fb[1] - past_fb[1])\n",
    "    return total\n"
   ]
  },
  {
   "cell_type": "code",
   "execution_count": 79,
   "metadata": {},
   "outputs": [],
   "source": [
    "\n",
    "def simulated_annealing_search(history, iterations=1000, initial_temp=100.0, cooling_rate=0.95):\n",
    "    \"\"\"\n",
    "    History'ye göre maliyeti minimize eden bir tahmini, simulated annealing yöntemiyle arar.\n",
    "    \"\"\"\n",
    "    current = generate_individual()\n",
    "    current_cost = cost(current, history)\n",
    "    best = current[:]\n",
    "    best_cost = current_cost\n",
    "    T = initial_temp\n",
    "    for _ in range(iterations):\n",
    "        if current_cost == 0:\n",
    "            return current\n",
    "        # Komşu çözüm üret: Rastgele bir pozisyonda renk değiştir.\n",
    "        neighbor = current[:]\n",
    "        i = random.randint(0, code_length - 1)\n",
    "        neighbor[i] = random.choice(colors)\n",
    "        neighbor_cost = cost(neighbor, history)\n",
    "        delta = neighbor_cost - current_cost\n",
    "        if delta < 0 or random.random() < math.exp(-delta / T):\n",
    "            current = neighbor\n",
    "            current_cost = neighbor_cost\n",
    "            if current_cost < best_cost:\n",
    "                best = current[:]\n",
    "                best_cost = current_cost\n",
    "        T *= cooling_rate\n",
    "        if T < 1e-3:\n",
    "            break\n",
    "    return best\n"
   ]
  },
  {
   "cell_type": "code",
   "execution_count": 80,
   "metadata": {},
   "outputs": [],
   "source": [
    "\n",
    "def solve_with_simulated_annealing(secret=None):\n",
    "    game = MastermindGame(secret=secret)\n",
    "    history = []\n",
    "    while len(history) < max_feedback_calls:\n",
    "        # History'ye göre simulated annealing ile uygun tahmini bul.\n",
    "        candidate = simulated_annealing_search(history)\n",
    "        feedback = game.get_feedback(candidate)\n",
    "        history.append((candidate, feedback))\n",
    "        if feedback[0] == code_length:\n",
    "            return history, len(history), candidate, game.secret\n",
    "    return history, len(history), candidate, game.secret"
   ]
  },
  {
   "cell_type": "markdown",
   "metadata": {},
   "source": [
    "## Ana Program Akışı"
   ]
  },
  {
   "cell_type": "code",
   "execution_count": 83,
   "metadata": {},
   "outputs": [
    {
     "name": "stdout",
     "output_type": "stream",
     "text": [
      "Geçersiz giriş, rastgele gizli kod oluşturuluyor.\n",
      "\n",
      "Gizli Kod: ('O', 'B', 'Y', 'G')\n",
      "\n",
      "Algoritma Seçiniz:\n",
      "1. Genetik Algoritma\n",
      "2. Constraint Propagation\n",
      "3. Minimax Algoritma\n",
      "4. Simulated Annealing\n",
      "\n",
      "Tahmin Adımları:\n",
      "1. Tahmin: ('G', 'Y', 'R', 'Y') -> Siyah Taş: 0, Beyaz Taş: 2\n",
      "2. Tahmin: ('Y', 'P', 'G', 'B') -> Siyah Taş: 0, Beyaz Taş: 3\n",
      "3. Tahmin: ('P', 'G', 'Y', 'O') -> Siyah Taş: 1, Beyaz Taş: 2\n",
      "4. Tahmin: ('B', 'O', 'Y', 'G') -> Siyah Taş: 2, Beyaz Taş: 2\n",
      "5. Tahmin: ('P', 'O', 'B', 'G') -> Siyah Taş: 1, Beyaz Taş: 2\n",
      "6. Tahmin: ('B', 'R', 'P', 'G') -> Siyah Taş: 1, Beyaz Taş: 1\n",
      "7. Tahmin: ('O', 'P', 'Y', 'G') -> Siyah Taş: 3, Beyaz Taş: 0\n",
      "8. Tahmin: ('O', 'B', 'Y', 'G') -> Siyah Taş: 4, Beyaz Taş: 0\n",
      "\n",
      "Çözüm Bulundu: ('O', 'B', 'Y', 'G')\n",
      "Hamle Sayısı: 8\n",
      "Puan: 20\n"
     ]
    }
   ],
   "source": [
    "def main():\n",
    "    # Kullanıcıdan gizli kod oluşturulması istenir.\n",
    "    secret_input = input(\"4 haneli gizli renk kombinasyonunu sağdaki renkleri kullanarak oluşturun (R, G, B, Y, O, P) veya rastgele bir kombinasyon oluşturmak için 'S' tuşuna basın: \")\n",
    "    secret_input = secret_input.strip().upper()\n",
    "    \n",
    "    if secret_input == 'S':\n",
    "        secret_code = generate_individual()\n",
    "    elif len(secret_input) == 4 and all(c in colors for c in secret_input):\n",
    "        secret_code = list(secret_input)\n",
    "    else:\n",
    "        print(\"Geçersiz giriş, rastgele gizli kod oluşturuluyor.\")\n",
    "        secret_code = generate_individual()\n",
    "    \n",
    "    print(f\"\\nGizli Kod: {tuple(secret_code)}\\n\")\n",
    "    \n",
    "    print(\"Algoritma Seçiniz:\")\n",
    "    print(\"1. Genetik Algoritma\")\n",
    "    print(\"2. Constraint Propagation\")\n",
    "    print(\"3. Minimax Algoritma\")\n",
    "    print(\"4. Simulated Annealing\")\n",
    "    choice = input(\"Seçiminiz (1/2/3/4): \")\n",
    "    \n",
    "    if choice == \"1\":\n",
    "        history, generations, best_guess, secret = solve_with_genetic_algorithm(secret_code)\n",
    "    elif choice == \"2\":\n",
    "        history, generations, best_guess, secret = solve_with_constraint_propagation(secret_code)\n",
    "    elif choice == \"3\":\n",
    "        history, generations, best_guess, secret = solve_with_minimax(secret_code)\n",
    "    elif choice == \"4\":\n",
    "        history, generations, best_guess, secret = solve_with_simulated_annealing(secret_code)\n",
    "    else:\n",
    "        print(\"Geçersiz seçim, varsayılan olarak Genetik Algoritma seçildi.\\n\")\n",
    "        history, generations, best_guess, secret = solve_with_genetic_algorithm(secret_code)\n",
    "    \n",
    "    print(\"\\nTahmin Adımları:\")\n",
    "    for i, (guess, feedback) in enumerate(history, start=1):\n",
    "        print(f\"{i}. Tahmin: {tuple(guess)} -> Siyah Taş: {feedback[0]}, Beyaz Taş: {feedback[1]}\")\n",
    "    \n",
    "    print(f\"\\nÇözüm Bulundu: {tuple(best_guess)}\")\n",
    "    print(f\"Hamle Sayısı: {len(history)}\")\n",
    "    score = (max_feedback_calls - len(history)) * 10\n",
    "    print(f\"Puan: {score}\")\n",
    "\n",
    "if __name__ == \"__main__\":\n",
    "    main()\n"
   ]
  },
  {
   "cell_type": "markdown",
   "metadata": {},
   "source": [
    "## Deney ve Karşılaştırma"
   ]
  },
  {
   "cell_type": "markdown",
   "metadata": {},
   "source": [
    "1000 Senaryo Üzerinde Test"
   ]
  },
  {
   "cell_type": "markdown",
   "metadata": {},
   "source": [
    "Kodun bu kısmı zaman verimliliği açısından google colab'da çalıştırılmıştır, elde edilen çıktılar rapora ve sunuma eklenmiştir."
   ]
  },
  {
   "cell_type": "code",
   "execution_count": null,
   "metadata": {},
   "outputs": [
    {
     "name": "stdout",
     "output_type": "stream",
     "text": [
      "\n",
      "Genetik Algoritma Sonuçları:\n",
      "Ortalama Tahmin Sayısı: 4.60\n",
      "10 çalıştırmada başarı yüzdesi: %100.00\n",
      "Minimum hamle sayısı: 4\n",
      "Maksimum hamle sayısı: 6\n",
      "Toplam süre: 3.02 saniye\n",
      "\n",
      "Simulated Annealing Sonuçları:\n",
      "Ortalama Tahmin Sayısı: 5.30\n",
      "10 çalıştırmada başarı yüzdesi: %100.00\n",
      "Minimum hamle sayısı: 5\n",
      "Maksimum hamle sayısı: 6\n",
      "Toplam süre: 0.07 saniye\n",
      "\n",
      "Minimax Sonuçları:\n",
      "Ortalama Tahmin Sayısı: 4.60\n",
      "10 çalıştırmada başarı yüzdesi: %100.00\n",
      "Minimum hamle sayısı: 4\n",
      "Maksimum hamle sayısı: 5\n",
      "Toplam süre: 38.87 saniye\n",
      "\n",
      "Constraint Propagation Sonuçları:\n",
      "Ortalama Tahmin Sayısı: 4.90\n",
      "10 çalıştırmada başarı yüzdesi: %100.00\n",
      "Minimum hamle sayısı: 4\n",
      "Maksimum hamle sayısı: 7\n",
      "Toplam süre: 0.07 saniye\n"
     ]
    }
   ],
   "source": [
    "\n",
    "algorithms = {\n",
    "    \"Genetik Algoritma\": solve_with_genetic_algorithm,\n",
    "    \"Simulated Annealing\": solve_with_simulated_annealing,\n",
    "    \"Minimax\": solve_with_minimax,\n",
    "    \"Constraint Propagation\": solve_with_constraint_propagation\n",
    "}\n",
    "\n",
    "for name, solver in algorithms.items():\n",
    "    results = []\n",
    "    success = []\n",
    "    total_start_time = time.time()\n",
    "\n",
    "    for _ in range(1000):\n",
    "\n",
    "        history, generations, best_guess, secret = solver()\n",
    "        results.append(generations)\n",
    "        if best_guess == secret:\n",
    "          success.append(1)\n",
    "        else:\n",
    "          success.append(0)\n",
    "\n",
    "\n",
    "    total_end_time = time.time()\n",
    "\n",
    "    print(f\"\\n{name} Sonuçları:\")\n",
    "    print(f\"Ortalama Tahmin Sayısı: {sum(results) / len(results):.2f}\")\n",
    "    success_count = sum(success)\n",
    "    success_rate = (success_count / len(success)) * 100\n",
    "    print(f\"{len(results)} çalıştırmada başarı yüzdesi: %{success_rate:.2f}\")\n",
    "    print(f\"Minimum hamle sayısı: {min(results)}\")\n",
    "    print(f\"Maksimum hamle sayısı: {max(results)}\")\n",
    "    print(f\"Toplam süre: {total_end_time - total_start_time:.2f} saniye\")\n"
   ]
  },
  {
   "cell_type": "markdown",
   "metadata": {},
   "source": [
    "## Sonuçlar\n",
    "Constraint Propagation: Genellikle en hızlı ve etkili yöntemdir.\n",
    "\n",
    "Minimax: Daha uzun sürebilir ancak optimal sonuçlar verir. 6 adımda çözmeyi garanti eder.\n",
    "\n",
    "Genetik Algoritma: Büyük popülasyonlarda iyi sonuçlar verebilir, ancak rastgelelik nedeniyle tutarsız olabilir.\n",
    "\n",
    "Simulated Annealing: Oldukça hızlı sonuca ulaşsa da %100 doğru sonucu bulma garantisi yoktur."
   ]
  },
  {
   "cell_type": "markdown",
   "metadata": {},
   "source": [
    "\n",
    "## Geliştirme ve İyileştirme\n",
    "Algoritmaların performansını artırmak için parametreleri optimize edildi.\n",
    "\n",
    "Kullanıcı arayüzü ekleyerek oyunu interaktif hale getirilebilir."
   ]
  }
 ],
 "metadata": {
  "kernelspec": {
   "display_name": "base",
   "language": "python",
   "name": "python3"
  },
  "language_info": {
   "codemirror_mode": {
    "name": "ipython",
    "version": 3
   },
   "file_extension": ".py",
   "mimetype": "text/x-python",
   "name": "python",
   "nbconvert_exporter": "python",
   "pygments_lexer": "ipython3",
   "version": "3.9.7"
  }
 },
 "nbformat": 4,
 "nbformat_minor": 2
}
